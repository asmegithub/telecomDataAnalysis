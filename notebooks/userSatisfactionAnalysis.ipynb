{
 "cells": [
  {
   "cell_type": "code",
   "execution_count": 1,
   "metadata": {},
   "outputs": [],
   "source": [
    "import os\n",
    "import sys\n",
    "import pandas as pd\n",
    "import numpy as np\n",
    "import seaborn as sns\n",
    "import matplotlib.pyplot as plt\n",
    "from sklearn.preprocessing import MinMaxScaler\n",
    "from sklearn.cluster import KMeans\n",
    "from dotenv import load_dotenv\n",
    "\n",
    "# Get the current working directory\n",
    "current_dir = os.getcwd()\n",
    "\n",
    "# Append the parent directory\n",
    "parent_dir = os.path.dirname(current_dir)\n",
    "sys.path.append(parent_dir)\n",
    "\n",
    "# ignore warrnings\n",
    "import warnings\n",
    "warnings.filterwarnings(\"ignore\")\n",
    "from db.dbConnections import PostgresConnection\n",
    "from scripts.userSatisfactionAnalysis import *\n",
    "from scripts.utils import *"
   ]
  },
  {
   "cell_type": "code",
   "execution_count": 2,
   "metadata": {},
   "outputs": [
    {
     "name": "stdout",
     "output_type": "stream",
     "text": [
      "Connected to PostgreSQL database\n"
     ]
    }
   ],
   "source": [
    " # Establish database connection\n",
    "db = PostgresConnection()\n",
    "db.connect()\n",
    "\n",
    "# Define the query to get data\n",
    "query = 'SELECT * FROM xdr_data'\n"
   ]
  },
  {
   "cell_type": "code",
   "execution_count": 3,
   "metadata": {},
   "outputs": [
    {
     "data": {
      "text/html": [
       "<div>\n",
       "<style scoped>\n",
       "    .dataframe tbody tr th:only-of-type {\n",
       "        vertical-align: middle;\n",
       "    }\n",
       "\n",
       "    .dataframe tbody tr th {\n",
       "        vertical-align: top;\n",
       "    }\n",
       "\n",
       "    .dataframe thead th {\n",
       "        text-align: right;\n",
       "    }\n",
       "</style>\n",
       "<table border=\"1\" class=\"dataframe\">\n",
       "  <thead>\n",
       "    <tr style=\"text-align: right;\">\n",
       "      <th></th>\n",
       "      <th>Bearer Id</th>\n",
       "      <th>Start</th>\n",
       "      <th>Start ms</th>\n",
       "      <th>End</th>\n",
       "      <th>End ms</th>\n",
       "      <th>Dur. (ms)</th>\n",
       "      <th>IMSI</th>\n",
       "      <th>MSISDN/Number</th>\n",
       "      <th>IMEI</th>\n",
       "      <th>Last Location Name</th>\n",
       "      <th>...</th>\n",
       "      <th>Youtube DL (Bytes)</th>\n",
       "      <th>Youtube UL (Bytes)</th>\n",
       "      <th>Netflix DL (Bytes)</th>\n",
       "      <th>Netflix UL (Bytes)</th>\n",
       "      <th>Gaming DL (Bytes)</th>\n",
       "      <th>Gaming UL (Bytes)</th>\n",
       "      <th>Other DL (Bytes)</th>\n",
       "      <th>Other UL (Bytes)</th>\n",
       "      <th>Total UL (Bytes)</th>\n",
       "      <th>Total DL (Bytes)</th>\n",
       "    </tr>\n",
       "  </thead>\n",
       "  <tbody>\n",
       "    <tr>\n",
       "      <th>0</th>\n",
       "      <td>1.311448e+19</td>\n",
       "      <td>Thu Apr 04 2019 15:01:18 GMT+0300 (East Africa...</td>\n",
       "      <td>770.0</td>\n",
       "      <td>Thu Apr 25 2019 17:35:31 GMT+0300 (East Africa...</td>\n",
       "      <td>662.0</td>\n",
       "      <td>1.823653e+09</td>\n",
       "      <td>2.082014e+14</td>\n",
       "      <td>3.366496e+10</td>\n",
       "      <td>3.552121e+13</td>\n",
       "      <td>9164566995485190</td>\n",
       "      <td>...</td>\n",
       "      <td>15854611.0</td>\n",
       "      <td>2501332.0</td>\n",
       "      <td>8198936.0</td>\n",
       "      <td>9656251.0</td>\n",
       "      <td>278082303.0</td>\n",
       "      <td>14344150.0</td>\n",
       "      <td>171744450.0</td>\n",
       "      <td>8814393.0</td>\n",
       "      <td>36749741.0</td>\n",
       "      <td>308879636.0</td>\n",
       "    </tr>\n",
       "    <tr>\n",
       "      <th>1</th>\n",
       "      <td>1.311448e+19</td>\n",
       "      <td>Tue Apr 09 2019 16:04:04 GMT+0300 (East Africa...</td>\n",
       "      <td>235.0</td>\n",
       "      <td>Thu Apr 25 2019 11:15:48 GMT+0300 (East Africa...</td>\n",
       "      <td>606.0</td>\n",
       "      <td>1.365104e+09</td>\n",
       "      <td>2.082019e+14</td>\n",
       "      <td>3.368185e+10</td>\n",
       "      <td>3.579401e+13</td>\n",
       "      <td>L77566A</td>\n",
       "      <td>...</td>\n",
       "      <td>20247395.0</td>\n",
       "      <td>19111729.0</td>\n",
       "      <td>18338413.0</td>\n",
       "      <td>17227132.0</td>\n",
       "      <td>608750074.0</td>\n",
       "      <td>1170709.0</td>\n",
       "      <td>526904238.0</td>\n",
       "      <td>15055145.0</td>\n",
       "      <td>53800391.0</td>\n",
       "      <td>653384965.0</td>\n",
       "    </tr>\n",
       "    <tr>\n",
       "      <th>2</th>\n",
       "      <td>1.311448e+19</td>\n",
       "      <td>Tue Apr 09 2019 20:42:11 GMT+0300 (East Africa...</td>\n",
       "      <td>1.0</td>\n",
       "      <td>Thu Apr 25 2019 14:58:13 GMT+0300 (East Africa...</td>\n",
       "      <td>652.0</td>\n",
       "      <td>1.361763e+09</td>\n",
       "      <td>2.082003e+14</td>\n",
       "      <td>3.376063e+10</td>\n",
       "      <td>3.528151e+13</td>\n",
       "      <td>D42335A</td>\n",
       "      <td>...</td>\n",
       "      <td>19725661.0</td>\n",
       "      <td>14699576.0</td>\n",
       "      <td>17587794.0</td>\n",
       "      <td>6163408.0</td>\n",
       "      <td>229584621.0</td>\n",
       "      <td>395630.0</td>\n",
       "      <td>410692588.0</td>\n",
       "      <td>4215763.0</td>\n",
       "      <td>27883638.0</td>\n",
       "      <td>279807335.0</td>\n",
       "    </tr>\n",
       "    <tr>\n",
       "      <th>3</th>\n",
       "      <td>1.311448e+19</td>\n",
       "      <td>Wed Apr 10 2019 03:31:25 GMT+0300 (East Africa...</td>\n",
       "      <td>486.0</td>\n",
       "      <td>Thu Apr 25 2019 10:36:35 GMT+0300 (East Africa...</td>\n",
       "      <td>171.0</td>\n",
       "      <td>1.321510e+09</td>\n",
       "      <td>2.082014e+14</td>\n",
       "      <td>3.375034e+10</td>\n",
       "      <td>3.535661e+13</td>\n",
       "      <td>T21824A</td>\n",
       "      <td>...</td>\n",
       "      <td>21388122.0</td>\n",
       "      <td>15146643.0</td>\n",
       "      <td>13994646.0</td>\n",
       "      <td>1097942.0</td>\n",
       "      <td>799538153.0</td>\n",
       "      <td>10849722.0</td>\n",
       "      <td>749039933.0</td>\n",
       "      <td>12797283.0</td>\n",
       "      <td>43324218.0</td>\n",
       "      <td>846028530.0</td>\n",
       "    </tr>\n",
       "    <tr>\n",
       "      <th>4</th>\n",
       "      <td>1.311448e+19</td>\n",
       "      <td>Fri Apr 12 2019 23:10:23 GMT+0300 (East Africa...</td>\n",
       "      <td>565.0</td>\n",
       "      <td>Thu Apr 25 2019 13:40:32 GMT+0300 (East Africa...</td>\n",
       "      <td>954.0</td>\n",
       "      <td>1.089009e+09</td>\n",
       "      <td>2.082014e+14</td>\n",
       "      <td>3.369980e+10</td>\n",
       "      <td>3.540701e+13</td>\n",
       "      <td>D88865A</td>\n",
       "      <td>...</td>\n",
       "      <td>15259380.0</td>\n",
       "      <td>18962873.0</td>\n",
       "      <td>17124581.0</td>\n",
       "      <td>415218.0</td>\n",
       "      <td>527707248.0</td>\n",
       "      <td>3529801.0</td>\n",
       "      <td>550709500.0</td>\n",
       "      <td>13910322.0</td>\n",
       "      <td>38542814.0</td>\n",
       "      <td>569138589.0</td>\n",
       "    </tr>\n",
       "  </tbody>\n",
       "</table>\n",
       "<p>5 rows × 55 columns</p>\n",
       "</div>"
      ],
      "text/plain": [
       "      Bearer Id                                              Start  Start ms  \\\n",
       "0  1.311448e+19  Thu Apr 04 2019 15:01:18 GMT+0300 (East Africa...     770.0   \n",
       "1  1.311448e+19  Tue Apr 09 2019 16:04:04 GMT+0300 (East Africa...     235.0   \n",
       "2  1.311448e+19  Tue Apr 09 2019 20:42:11 GMT+0300 (East Africa...       1.0   \n",
       "3  1.311448e+19  Wed Apr 10 2019 03:31:25 GMT+0300 (East Africa...     486.0   \n",
       "4  1.311448e+19  Fri Apr 12 2019 23:10:23 GMT+0300 (East Africa...     565.0   \n",
       "\n",
       "                                                 End  End ms     Dur. (ms)  \\\n",
       "0  Thu Apr 25 2019 17:35:31 GMT+0300 (East Africa...   662.0  1.823653e+09   \n",
       "1  Thu Apr 25 2019 11:15:48 GMT+0300 (East Africa...   606.0  1.365104e+09   \n",
       "2  Thu Apr 25 2019 14:58:13 GMT+0300 (East Africa...   652.0  1.361763e+09   \n",
       "3  Thu Apr 25 2019 10:36:35 GMT+0300 (East Africa...   171.0  1.321510e+09   \n",
       "4  Thu Apr 25 2019 13:40:32 GMT+0300 (East Africa...   954.0  1.089009e+09   \n",
       "\n",
       "           IMSI  MSISDN/Number          IMEI Last Location Name  ...  \\\n",
       "0  2.082014e+14   3.366496e+10  3.552121e+13   9164566995485190  ...   \n",
       "1  2.082019e+14   3.368185e+10  3.579401e+13            L77566A  ...   \n",
       "2  2.082003e+14   3.376063e+10  3.528151e+13            D42335A  ...   \n",
       "3  2.082014e+14   3.375034e+10  3.535661e+13            T21824A  ...   \n",
       "4  2.082014e+14   3.369980e+10  3.540701e+13            D88865A  ...   \n",
       "\n",
       "   Youtube DL (Bytes)  Youtube UL (Bytes)  Netflix DL (Bytes)  \\\n",
       "0          15854611.0           2501332.0           8198936.0   \n",
       "1          20247395.0          19111729.0          18338413.0   \n",
       "2          19725661.0          14699576.0          17587794.0   \n",
       "3          21388122.0          15146643.0          13994646.0   \n",
       "4          15259380.0          18962873.0          17124581.0   \n",
       "\n",
       "   Netflix UL (Bytes)  Gaming DL (Bytes)  Gaming UL (Bytes)  Other DL (Bytes)  \\\n",
       "0           9656251.0        278082303.0         14344150.0       171744450.0   \n",
       "1          17227132.0        608750074.0          1170709.0       526904238.0   \n",
       "2           6163408.0        229584621.0           395630.0       410692588.0   \n",
       "3           1097942.0        799538153.0         10849722.0       749039933.0   \n",
       "4            415218.0        527707248.0          3529801.0       550709500.0   \n",
       "\n",
       "   Other UL (Bytes)  Total UL (Bytes)  Total DL (Bytes)  \n",
       "0         8814393.0        36749741.0       308879636.0  \n",
       "1        15055145.0        53800391.0       653384965.0  \n",
       "2         4215763.0        27883638.0       279807335.0  \n",
       "3        12797283.0        43324218.0       846028530.0  \n",
       "4        13910322.0        38542814.0       569138589.0  \n",
       "\n",
       "[5 rows x 55 columns]"
      ]
     },
     "execution_count": 3,
     "metadata": {},
     "output_type": "execute_result"
    }
   ],
   "source": [
    "# Load and clean data from the database\n",
    "df = load_and_clean_data_from_db(db, query)\n",
    "df.head()"
   ]
  },
  {
   "cell_type": "code",
   "execution_count": 4,
   "metadata": {},
   "outputs": [],
   "source": [
    " # Aggregate data\n",
    "aggregated_data = aggregate_data(df)"
   ]
  },
  {
   "cell_type": "code",
   "execution_count": 5,
   "metadata": {},
   "outputs": [],
   "source": [
    "# Perform K-Means clustering for experience\n",
    "experience_clusters, kmeans_experience = perform_kmeans_clustering(aggregated_data.iloc[:, 1:], 3)\n",
    "aggregated_data['Experience_Cluster'] = experience_clusters\n",
    "experience_cluster_means = aggregated_data.groupby('Experience_Cluster').mean()\n"
   ]
  },
  {
   "cell_type": "code",
   "execution_count": 6,
   "metadata": {},
   "outputs": [],
   "source": [
    "# Perform K-Means clustering for engagement\n",
    "engagement_clusters, kmeans_engagement = perform_kmeans_clustering(aggregated_data.iloc[:, 1:], 3)\n",
    "aggregated_data['Engagement_Cluster'] = engagement_clusters\n"
   ]
  },
  {
   "cell_type": "code",
   "execution_count": 7,
   "metadata": {},
   "outputs": [],
   "source": [
    " # Identify worst experience and less engaged clusters\n",
    "worst_experience_cluster = experience_cluster_means[['Avg RTT DL (ms)', 'Avg RTT UL (ms)', 'Avg Bearer TP DL (kbps)', 'Avg Bearer TP UL (kbps)']].idxmax().iloc[0]\n",
    "less_engaged_cluster = 0  # Assuming 0 is the less engaged cluster\n"
   ]
  },
  {
   "cell_type": "code",
   "execution_count": 8,
   "metadata": {},
   "outputs": [
    {
     "name": "stdout",
     "output_type": "stream",
     "text": [
      "Shape of aggregated_data: (107265, 6)\n",
      "Shape of engagement_cluster_centers: (3, 6)\n"
     ]
    }
   ],
   "source": [
    "columns_of_interest = [\n",
    "    'TCP DL Retrans. Vol (Bytes)', 'TCP UL Retrans. Vol (Bytes)',\n",
    "    'Avg RTT DL (ms)', 'Avg RTT UL (ms)', \n",
    "    'Avg Bearer TP DL (kbps)', 'Avg Bearer TP UL (kbps)'\n",
    "]\n",
    "kmeans_engagement = KMeans(n_clusters=3)\n",
    "kmeans_engagement.fit(aggregated_data[columns_of_interest])\n",
    "print(\"Shape of aggregated_data:\", aggregated_data[columns_of_interest].shape)\n",
    "print(\"Shape of engagement_cluster_centers:\", kmeans_engagement.cluster_centers_.shape)\n"
   ]
  },
  {
   "cell_type": "code",
   "execution_count": 9,
   "metadata": {},
   "outputs": [],
   "source": [
    "# Calculate engagement and experience scores\n",
    "aggregated_data = calculate_scores(aggregated_data, experience_cluster_means, kmeans_engagement.cluster_centers_, less_engaged_cluster, worst_experience_cluster)\n"
   ]
  },
  {
   "cell_type": "code",
   "execution_count": 10,
   "metadata": {},
   "outputs": [
    {
     "name": "stdout",
     "output_type": "stream",
     "text": [
      "Top 10 satisfied customers:\n",
      "               IMSI  TCP DL Retrans. Vol (Bytes)  TCP UL Retrans. Vol (Bytes)  \\\n",
      "76093  2.082017e+14                 4.289488e+09                   11989838.0   \n",
      "70098  2.082017e+14                 4.288060e+09                      60496.0   \n",
      "25608  2.082010e+14                 4.268432e+09                     215354.0   \n",
      "27762  2.082014e+14                 4.254644e+09                      15816.0   \n",
      "82401  2.082018e+14                 4.211189e+09                      68802.0   \n",
      "66329  2.082017e+14                 4.166591e+09                       3989.0   \n",
      "31005  2.082014e+14                 4.131046e+09                    6891979.0   \n",
      "81324  2.082018e+14                 4.117753e+09                      51555.0   \n",
      "76790  2.082017e+14                 3.968072e+09                      48174.0   \n",
      "97867  2.082019e+14                 3.785295e+09                    1576179.0   \n",
      "\n",
      "       Avg RTT DL (ms)  Avg RTT UL (ms)  Avg Bearer TP DL (kbps)  \\\n",
      "76093            244.0            242.0                  26456.0   \n",
      "70098             62.0             19.0                  80994.0   \n",
      "25608            305.0            148.0                  52901.0   \n",
      "27762             61.0             27.0                  87516.0   \n",
      "82401            178.0             30.0                  57104.0   \n",
      "66329            149.0             23.0                  70272.0   \n",
      "31005             35.0             46.0                  94139.0   \n",
      "81324             42.0             22.0                  61286.0   \n",
      "76790             93.0             64.0                  35609.0   \n",
      "97867             50.0             18.0                  45244.0   \n",
      "\n",
      "       Avg Bearer TP UL (kbps)  Experience_Cluster  Engagement_Cluster  \\\n",
      "76093                   5310.0                   1                   1   \n",
      "70098                  13188.0                   1                   1   \n",
      "25608                   2308.0                   1                   1   \n",
      "27762                  29617.0                   1                   1   \n",
      "82401                   2496.0                   1                   1   \n",
      "66329                   2000.0                   1                   1   \n",
      "31005                  10864.0                   1                   1   \n",
      "81324                   6392.0                   1                   1   \n",
      "76790                   3710.0                   1                   1   \n",
      "97867                  15043.0                   1                   1   \n",
      "\n",
      "       Engagement_Score  Experience_Score  Satisfaction_Score  \n",
      "76093      4.273556e+09      4.273780e+09        4.273668e+09  \n",
      "70098      4.272114e+09      4.272338e+09        4.272226e+09  \n",
      "25608      4.252486e+09      4.252709e+09        4.252598e+09  \n",
      "27762      4.238698e+09      4.238921e+09        4.238809e+09  \n",
      "82401      4.195243e+09      4.195466e+09        4.195355e+09  \n",
      "66329      4.150645e+09      4.150868e+09        4.150757e+09  \n",
      "31005      4.115104e+09      4.115328e+09        4.115216e+09  \n",
      "81324      4.101807e+09      4.102031e+09        4.101919e+09  \n",
      "76790      3.952126e+09      3.952350e+09        3.952238e+09  \n",
      "97867      3.769349e+09      3.769572e+09        3.769460e+09  \n"
     ]
    }
   ],
   "source": [
    "# Compute satisfaction score\n",
    "aggregated_data = compute_satisfaction_score(aggregated_data)\n",
    "\n",
    "# Get top 10 satisfied customers\n",
    "top_10_satisfied = aggregated_data.nlargest(10, 'Satisfaction_Score')\n",
    "print(\"Top 10 satisfied customers:\")\n",
    "print(top_10_satisfied)\n"
   ]
  },
  {
   "cell_type": "code",
   "execution_count": 11,
   "metadata": {},
   "outputs": [
    {
     "name": "stdout",
     "output_type": "stream",
     "text": [
      "Regression coefficients: [0.5 0.5]\n"
     ]
    }
   ],
   "source": [
    "# Build regression model\n",
    "reg_model = build_regression_model(aggregated_data)\n",
    "print(\"Regression coefficients:\", reg_model.coef_)"
   ]
  },
  {
   "cell_type": "code",
   "execution_count": 12,
   "metadata": {},
   "outputs": [
    {
     "name": "stdout",
     "output_type": "stream",
     "text": [
      "Cluster summary:\n",
      "                      Engagement_Score  Experience_Score  Satisfaction_Score\n",
      "Satisfaction_Cluster                                                        \n",
      "0                         1.023465e+07      1.027366e+07        1.025415e+07\n",
      "1                         2.198578e+09      2.198799e+09        2.198689e+09\n"
     ]
    }
   ],
   "source": [
    "# Perform K-Means clustering on satisfaction scores\n",
    "aggregated_data, kmeans_satisfaction = cluster_satisfaction_scores(aggregated_data)\n",
    "\n",
    "# Aggregate cluster summary\n",
    "cluster_summary = aggregate_cluster_summary(aggregated_data)\n",
    "print(\"Cluster summary:\")\n",
    "print(cluster_summary)\n"
   ]
  },
  {
   "cell_type": "code",
   "execution_count": 15,
   "metadata": {},
   "outputs": [
    {
     "name": "stdout",
     "output_type": "stream",
     "text": [
      "Index(['IMSI', 'TCP DL Retrans. Vol (Bytes)', 'TCP UL Retrans. Vol (Bytes)',\n",
      "       'Avg RTT DL (ms)', 'Avg RTT UL (ms)', 'Avg Bearer TP DL (kbps)',\n",
      "       'Avg Bearer TP UL (kbps)', 'Experience_Cluster', 'Engagement_Cluster',\n",
      "       'Engagement_Score', 'Experience_Score', 'Satisfaction_Score',\n",
      "       'Satisfaction_Cluster'],\n",
      "      dtype='object')\n"
     ]
    }
   ],
   "source": [
    "print(aggregated_data.columns)\n"
   ]
  },
  {
   "cell_type": "code",
   "execution_count": 16,
   "metadata": {},
   "outputs": [
    {
     "name": "stdout",
     "output_type": "stream",
     "text": [
      "Data exported successfully to the table 'user_metrics' in the PostgreSQL database.\n"
     ]
    }
   ],
   "source": [
    "db_config = {\n",
    "    'user': 'etech',\n",
    "    'password': 'etech',\n",
    "    'host': 'localhost',\n",
    "    'port': 5432,\n",
    "    'database': 'telecom_db'\n",
    "}\n",
    "user_score_data = aggregated_data[['IMSI', 'Engagement_Score', 'Experience_Score', 'Satisfaction_Score']]\n",
    "export_to_postgresql(user_score_data, 'user_metrics', db_config)\n"
   ]
  }
 ],
 "metadata": {
  "kernelspec": {
   "display_name": "myvenv",
   "language": "python",
   "name": "python3"
  },
  "language_info": {
   "codemirror_mode": {
    "name": "ipython",
    "version": 3
   },
   "file_extension": ".py",
   "mimetype": "text/x-python",
   "name": "python",
   "nbconvert_exporter": "python",
   "pygments_lexer": "ipython3",
   "version": "3.10.12"
  }
 },
 "nbformat": 4,
 "nbformat_minor": 2
}
